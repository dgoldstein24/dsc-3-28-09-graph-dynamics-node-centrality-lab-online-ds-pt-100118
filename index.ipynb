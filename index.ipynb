{
 "cells": [
  {
   "cell_type": "markdown",
   "metadata": {},
   "source": [
    "# Network Dynamics: Node Centrality - Lab\n",
    "\n",
    "## Introduction\n",
    "In this lab, we shall put the node centrality measures in to practice to analyze the character interactions in graph structure from the popular series of novels called \"\"A Song of Ice and Fire\" by George R. R. Martin. The of famous HBO series \"Game of Thrones\" is derived from this saga. In this lab, we shall calculate different centrality measures to identify the the importance of characters as the story progresses.  \n",
    "\n",
    "\n",
    "## Objectives\n",
    "You will be able to:\n",
    "- Understand and explain network centrality and its importance in graph analysis\n",
    "- Understand and calculate Degree, Closeness, Betweenness and Eigenvector centrality measures\n",
    "- Describe the use case for several centrality measures"
   ]
  },
  {
   "cell_type": "markdown",
   "metadata": {
    "collapsed": true
   },
   "source": [
    "## ASIOF (A Song of Ice and Fire) Character Interaction Graph Data\n",
    "\n",
    "A. J. Beveridge, and J. Shan  created a network from books \"A song of ice and fire\" by extracting relationships between characters of the story. [The dataset is available at Github](https://github.com/mathbeveridge/asoiaf)\n",
    "as an interaction network which was built as\n",
    "> Parse the text and build a graph by connecting (creating an edge) two characters (nodes of the graph) whenever their names appear within 15 words. The edge weight corresponds to the number of interactions.\n",
    "\n",
    "<img src=\"parse.png\" width=300>\n",
    "\n",
    "The datasets have been made available for you in the repo. You are encouraged to [visit A. J. Beveridge's blog](https://networkofthrones.wordpress.com) to see how this dataset is created, and different network analysis activities which are being performed with this dataset. The image you see below, has been created using same datasets. The blog gives you information on this and more experiments. For this lab, we shall focus more on graph analysis than visualizations.\n",
    "\n",
    "<img src=\"got.png\" width=800>\n",
    "\n",
    "Let's get on with it. "
   ]
  },
  {
   "cell_type": "markdown",
   "metadata": {},
   "source": [
    "## Load necessary libraries\n",
    "\n",
    "- Let's give you a head start by loading the libraries that you might need for this experiment. "
   ]
  },
  {
   "cell_type": "code",
   "execution_count": 28,
   "metadata": {},
   "outputs": [],
   "source": [
    "import pandas as pd\n",
    "import networkx as nx\n",
    "import matplotlib.pyplot as plt\n",
    "import warnings\n",
    "warnings.filterwarnings('ignore')\n",
    "\n",
    "%matplotlib inline"
   ]
  },
  {
   "cell_type": "markdown",
   "metadata": {},
   "source": [
    "##  Load the dataset \n",
    "\n",
    "The dataset is available for all 5 books, with two CSV files for each book. One contains nodes data as adjacency matrix and other carries edges data as edge list, e.g. for book 1, `asoiaf-book1-edges.csv` and `asoiaf-book1-nodes.csv`. So we have 10 files in total. \n",
    "\n",
    "- Read edge data for all books into pandas dataframe:  book1_df .. book5_df. \n",
    "\n",
    "How about using a for loop to do this in one go - optional."
   ]
  },
  {
   "cell_type": "code",
   "execution_count": 29,
   "metadata": {},
   "outputs": [],
   "source": [
    "# Load edges into dataframes\n",
    "b1 = pd.read_csv('asiof/asoiaf-book1-edges.csv')\n",
    "b2 = pd.read_csv('asiof/asoiaf-book2-edges.csv')\n",
    "b3 = pd.read_csv('asiof/asoiaf-book3-edges.csv')\n",
    "b4 = pd.read_csv('asiof/asoiaf-book4-edges.csv')\n",
    "b5 = pd.read_csv('asiof/asoiaf-book5-edges.csv')\n",
    "books = [b1, b2, b3, b4, b5]"
   ]
  },
  {
   "cell_type": "code",
   "execution_count": 30,
   "metadata": {},
   "outputs": [
    {
     "data": {
      "text/html": [
       "<div>\n",
       "<style scoped>\n",
       "    .dataframe tbody tr th:only-of-type {\n",
       "        vertical-align: middle;\n",
       "    }\n",
       "\n",
       "    .dataframe tbody tr th {\n",
       "        vertical-align: top;\n",
       "    }\n",
       "\n",
       "    .dataframe thead th {\n",
       "        text-align: right;\n",
       "    }\n",
       "</style>\n",
       "<table border=\"1\" class=\"dataframe\">\n",
       "  <thead>\n",
       "    <tr style=\"text-align: right;\">\n",
       "      <th></th>\n",
       "      <th>Source</th>\n",
       "      <th>Target</th>\n",
       "      <th>Type</th>\n",
       "      <th>weight</th>\n",
       "      <th>book</th>\n",
       "    </tr>\n",
       "  </thead>\n",
       "  <tbody>\n",
       "    <tr>\n",
       "      <th>0</th>\n",
       "      <td>Addam-Marbrand</td>\n",
       "      <td>Jaime-Lannister</td>\n",
       "      <td>Undirected</td>\n",
       "      <td>3</td>\n",
       "      <td>1</td>\n",
       "    </tr>\n",
       "    <tr>\n",
       "      <th>1</th>\n",
       "      <td>Addam-Marbrand</td>\n",
       "      <td>Tywin-Lannister</td>\n",
       "      <td>Undirected</td>\n",
       "      <td>6</td>\n",
       "      <td>1</td>\n",
       "    </tr>\n",
       "    <tr>\n",
       "      <th>2</th>\n",
       "      <td>Aegon-I-Targaryen</td>\n",
       "      <td>Daenerys-Targaryen</td>\n",
       "      <td>Undirected</td>\n",
       "      <td>5</td>\n",
       "      <td>1</td>\n",
       "    </tr>\n",
       "    <tr>\n",
       "      <th>3</th>\n",
       "      <td>Aegon-I-Targaryen</td>\n",
       "      <td>Eddard-Stark</td>\n",
       "      <td>Undirected</td>\n",
       "      <td>4</td>\n",
       "      <td>1</td>\n",
       "    </tr>\n",
       "    <tr>\n",
       "      <th>4</th>\n",
       "      <td>Aemon-Targaryen-(Maester-Aemon)</td>\n",
       "      <td>Alliser-Thorne</td>\n",
       "      <td>Undirected</td>\n",
       "      <td>4</td>\n",
       "      <td>1</td>\n",
       "    </tr>\n",
       "  </tbody>\n",
       "</table>\n",
       "</div>"
      ],
      "text/plain": [
       "                            Source              Target        Type  weight  \\\n",
       "0                   Addam-Marbrand     Jaime-Lannister  Undirected       3   \n",
       "1                   Addam-Marbrand     Tywin-Lannister  Undirected       6   \n",
       "2                Aegon-I-Targaryen  Daenerys-Targaryen  Undirected       5   \n",
       "3                Aegon-I-Targaryen        Eddard-Stark  Undirected       4   \n",
       "4  Aemon-Targaryen-(Maester-Aemon)      Alliser-Thorne  Undirected       4   \n",
       "\n",
       "   book  \n",
       "0     1  \n",
       "1     1  \n",
       "2     1  \n",
       "3     1  \n",
       "4     1  "
      ]
     },
     "execution_count": 30,
     "metadata": {},
     "output_type": "execute_result"
    }
   ],
   "source": [
    "b1.head()"
   ]
  },
  {
   "cell_type": "markdown",
   "metadata": {},
   "source": [
    "## Create Empty graph instances for each book"
   ]
  },
  {
   "cell_type": "code",
   "execution_count": 31,
   "metadata": {},
   "outputs": [],
   "source": [
    "# Create empty instances for each book above\n",
    "G1 = nx.Graph()\n",
    "G2 = nx.Graph()\n",
    "G3 = nx.Graph()\n",
    "G4 = nx.Graph()\n",
    "G5 = nx.Graph()\n",
    "graphs = [G1, G2, G3, G4, G5]"
   ]
  },
  {
   "cell_type": "markdown",
   "metadata": {},
   "source": [
    "## Create Graph\n",
    "- Read the edge lists from the dataframes above into relevant graphs. \n",
    "- inspect the contents of graph to get an idea about the data structures contained within "
   ]
  },
  {
   "cell_type": "code",
   "execution_count": 32,
   "metadata": {},
   "outputs": [],
   "source": [
    "# Read edge lists into dataframes\n",
    "for i in range(len(books)):\n",
    "    for row in books[i].iterrows():\n",
    "        graphs[i].add_edge(row[1]['Source'], row[1]['Target'], weight = row[1]['weight'], book = row[1]['book'])"
   ]
  },
  {
   "cell_type": "markdown",
   "metadata": {},
   "source": [
    "## Finding important nodes (characters) \n",
    "\n",
    "Let's use and compare different centralities measures we saw earlier to identify importance of nodes in this network. There is no one right way of calaculating it, every approach has a different meaning.\n",
    "\n",
    "## Calculate Degree Centrality \n",
    "Degree centrality which is defined by degree of a node (number of neighbors) divided by a noramlizing factor n-1 where n is the number of nodes.\n",
    "\n",
    "- __Find the neighbours of '**Catelyn-Stark**' from book 1.__"
   ]
  },
  {
   "cell_type": "code",
   "execution_count": 33,
   "metadata": {},
   "outputs": [
    {
     "data": {
      "text/plain": [
       "['Addam-Marbrand',\n",
       " 'Jaime-Lannister',\n",
       " 'Tywin-Lannister',\n",
       " 'Aegon-I-Targaryen',\n",
       " 'Daenerys-Targaryen',\n",
       " 'Eddard-Stark',\n",
       " 'Aemon-Targaryen-(Maester-Aemon)',\n",
       " 'Alliser-Thorne',\n",
       " 'Bowen-Marsh',\n",
       " 'Chett',\n",
       " 'Clydas',\n",
       " 'Jeor-Mormont',\n",
       " 'Jon-Snow',\n",
       " 'Samwell-Tarly',\n",
       " 'Aerys-II-Targaryen',\n",
       " 'Brandon-Stark',\n",
       " 'Gerold-Hightower',\n",
       " 'Jon-Arryn',\n",
       " 'Robert-Baratheon',\n",
       " 'Aggo',\n",
       " 'Drogo',\n",
       " 'Jhogo',\n",
       " 'Jorah-Mormont',\n",
       " 'Quaro',\n",
       " 'Rakharo',\n",
       " 'Albett',\n",
       " 'Halder',\n",
       " 'Rast',\n",
       " 'Grenn',\n",
       " 'Pypar',\n",
       " 'Tyrion-Lannister',\n",
       " 'Alyn',\n",
       " 'Harwin',\n",
       " 'Jory-Cassel',\n",
       " 'Tomard',\n",
       " 'Arthur-Dayne',\n",
       " 'Arya-Stark',\n",
       " 'Benjen-Stark',\n",
       " 'Bran-Stark',\n",
       " 'Catelyn-Stark',\n",
       " 'Cersei-Lannister',\n",
       " 'Desmond',\n",
       " 'Ilyn-Payne',\n",
       " 'Jeyne-Poole',\n",
       " 'Joffrey-Baratheon',\n",
       " 'Meryn-Trant',\n",
       " 'Mordane',\n",
       " 'Mycah',\n",
       " 'Myrcella-Baratheon',\n",
       " 'Petyr-Baelish',\n",
       " 'Rickon-Stark',\n",
       " 'Robb-Stark',\n",
       " 'Rodrik-Cassel',\n",
       " 'Sandor-Clegane',\n",
       " 'Sansa-Stark',\n",
       " 'Syrio-Forel',\n",
       " 'Tommen-Baratheon',\n",
       " 'Vayon-Poole',\n",
       " 'Yoren',\n",
       " 'Arys-Oakheart',\n",
       " 'Balon-Greyjoy',\n",
       " 'Balon-Swann',\n",
       " 'Renly-Baratheon',\n",
       " 'Barristan-Selmy',\n",
       " 'Boros-Blount',\n",
       " 'Pycelle',\n",
       " 'Varys',\n",
       " 'Jaremy-Rykker',\n",
       " 'Luwin',\n",
       " 'Mance-Rayder',\n",
       " 'Theon-Greyjoy',\n",
       " 'Waymar-Royce',\n",
       " 'Beric-Dondarrion',\n",
       " 'Gregor-Clegane',\n",
       " 'Loras-Tyrell',\n",
       " 'Thoros-of-Myr',\n",
       " 'Hali',\n",
       " 'Hallis-Mollen',\n",
       " 'Hodor',\n",
       " 'Hullen',\n",
       " 'Joseth',\n",
       " 'Nan',\n",
       " 'Osha',\n",
       " 'Rickard-Karstark',\n",
       " 'Rickard-Stark',\n",
       " 'Stiv',\n",
       " 'Lyanna-Stark',\n",
       " 'Bronn',\n",
       " 'Chiggen',\n",
       " 'Marillion',\n",
       " 'Shae',\n",
       " 'Shagga',\n",
       " 'Vardis-Egen',\n",
       " 'Willis-Wode',\n",
       " 'Brynden-Tully',\n",
       " 'Edmure-Tully',\n",
       " 'Hoster-Tully',\n",
       " 'Lysa-Arryn',\n",
       " 'Nestor-Royce',\n",
       " 'Walder-Frey',\n",
       " 'Colemon',\n",
       " 'Donnel-Waynwood',\n",
       " 'Eon-Hunter',\n",
       " 'Jon-Umber-(Greatjon)',\n",
       " 'Masha-Heddle',\n",
       " 'Moreo-Tumitis',\n",
       " 'Mya-Stone',\n",
       " 'Mychel-Redfort',\n",
       " 'Robert-Arryn',\n",
       " 'Stevron-Frey',\n",
       " 'Tytos-Blackwood',\n",
       " 'Wendel-Manderly',\n",
       " 'Cayn',\n",
       " 'Janos-Slynt',\n",
       " 'Stannis-Baratheon',\n",
       " 'Chella',\n",
       " 'Clement-Piper',\n",
       " 'Karyl-Vance',\n",
       " 'Cohollo',\n",
       " 'Haggo',\n",
       " 'Qotho',\n",
       " 'Conn',\n",
       " 'Coratt',\n",
       " 'Doreah',\n",
       " 'Eroeh',\n",
       " 'Illyrio-Mopatis',\n",
       " 'Irri',\n",
       " 'Jhiqui',\n",
       " 'Mirri-Maz-Duur',\n",
       " 'Rhaegar-Targaryen',\n",
       " 'Viserys-Targaryen',\n",
       " 'Danwell-Frey',\n",
       " 'Hosteen-Frey',\n",
       " 'Jared-Frey',\n",
       " 'Dareon',\n",
       " 'Daryn-Hornwood',\n",
       " 'Torrhen-Karstark',\n",
       " 'Dolf',\n",
       " 'Donal-Noye',\n",
       " 'Jommo',\n",
       " 'Ogo',\n",
       " 'Rhaego',\n",
       " 'Dywen',\n",
       " 'Galbart-Glover',\n",
       " 'Gendry',\n",
       " 'High-Septon-(fat_one)',\n",
       " 'Howland-Reed',\n",
       " 'Jacks',\n",
       " 'Joss',\n",
       " 'Marq-Piper',\n",
       " 'Porther',\n",
       " 'Raymun-Darry',\n",
       " 'Tobho-Mott',\n",
       " 'Tregar',\n",
       " 'Varly',\n",
       " 'Wyl-(guard)',\n",
       " 'Wylla',\n",
       " 'Fogo',\n",
       " 'Roose-Bolton',\n",
       " 'Gared',\n",
       " 'Will-(prologue)',\n",
       " 'Oswell-Whent',\n",
       " 'Todder',\n",
       " 'Gunthor-son-of-Gurn',\n",
       " 'Harys-Swyft',\n",
       " 'Heward',\n",
       " 'Hobb',\n",
       " 'Hugh',\n",
       " 'Jafer-Flowers',\n",
       " 'Kevan-Lannister',\n",
       " 'Matthar',\n",
       " 'Othor',\n",
       " 'Maege-Mormont',\n",
       " 'Jonos-Bracken',\n",
       " 'Jyck',\n",
       " 'Morrec',\n",
       " 'Kurleket',\n",
       " 'Lancel-Lannister',\n",
       " 'Leo-Lefford',\n",
       " 'Mace-Tyrell',\n",
       " 'Lyn-Corbray',\n",
       " 'Paxter-Redwyne',\n",
       " 'Maegor-I-Targaryen',\n",
       " 'Mord',\n",
       " 'Randyll-Tarly',\n",
       " 'Timett',\n",
       " 'Ulf-son-of-Umar']"
      ]
     },
     "execution_count": 33,
     "metadata": {},
     "output_type": "execute_result"
    }
   ],
   "source": [
    "list(G1.nodes)"
   ]
  },
  {
   "cell_type": "code",
   "execution_count": 34,
   "metadata": {},
   "outputs": [
    {
     "data": {
      "text/plain": [
       "['Arya-Stark',\n",
       " 'Bran-Stark',\n",
       " 'Bronn',\n",
       " 'Brynden-Tully',\n",
       " 'Cersei-Lannister',\n",
       " 'Colemon',\n",
       " 'Donnel-Waynwood',\n",
       " 'Eddard-Stark',\n",
       " 'Edmure-Tully',\n",
       " 'Eon-Hunter',\n",
       " 'Hallis-Mollen',\n",
       " 'Hoster-Tully',\n",
       " 'Jaime-Lannister',\n",
       " 'Joffrey-Baratheon',\n",
       " 'Jon-Arryn',\n",
       " 'Jon-Snow',\n",
       " 'Jon-Umber-(Greatjon)',\n",
       " 'Luwin',\n",
       " 'Lysa-Arryn',\n",
       " 'Marillion',\n",
       " 'Masha-Heddle',\n",
       " 'Moreo-Tumitis',\n",
       " 'Mya-Stone',\n",
       " 'Mychel-Redfort',\n",
       " 'Nestor-Royce',\n",
       " 'Petyr-Baelish',\n",
       " 'Rickard-Karstark',\n",
       " 'Rickon-Stark',\n",
       " 'Robb-Stark',\n",
       " 'Robert-Arryn',\n",
       " 'Robert-Baratheon',\n",
       " 'Rodrik-Cassel',\n",
       " 'Sansa-Stark',\n",
       " 'Stevron-Frey',\n",
       " 'Theon-Greyjoy',\n",
       " 'Tyrion-Lannister',\n",
       " 'Tytos-Blackwood',\n",
       " 'Tywin-Lannister',\n",
       " 'Vardis-Egen',\n",
       " 'Varys',\n",
       " 'Walder-Frey',\n",
       " 'Wendel-Manderly',\n",
       " 'Willis-Wode']"
      ]
     },
     "execution_count": 34,
     "metadata": {},
     "output_type": "execute_result"
    }
   ],
   "source": [
    "# Neighbors for catelyn stark\n",
    "list(G1.neighbors('Catelyn-Stark'))"
   ]
  },
  {
   "cell_type": "markdown",
   "metadata": {},
   "source": [
    " `nx.degree_centrality(graph)` returns a dictionary where keys are the nodes and values are the corresponding degree centrality. \n",
    " \n",
    "- __Find the five most and least important characters from book 1 according to degree centrality__"
   ]
  },
  {
   "cell_type": "code",
   "execution_count": 35,
   "metadata": {},
   "outputs": [
    {
     "data": {
      "text/plain": [
       "[('Eddard-Stark', 0.3548387096774194),\n",
       " ('Robert-Baratheon', 0.2688172043010753),\n",
       " ('Tyrion-Lannister', 0.24731182795698928),\n",
       " ('Catelyn-Stark', 0.23118279569892475),\n",
       " ('Jon-Snow', 0.19892473118279572)]"
      ]
     },
     "execution_count": 35,
     "metadata": {},
     "output_type": "execute_result"
    }
   ],
   "source": [
    "# Five most important characters from book 1 according to degree centrality\n",
    "sorted(nx.degree_centrality(G1).items(), key = lambda x: x[1], reverse = True)[0:5]"
   ]
  },
  {
   "cell_type": "code",
   "execution_count": 36,
   "metadata": {},
   "outputs": [
    {
     "data": {
      "text/plain": [
       "[('Clydas', 0.005376344086021506),\n",
       " ('Arthur-Dayne', 0.005376344086021506),\n",
       " ('Arys-Oakheart', 0.005376344086021506),\n",
       " ('Mance-Rayder', 0.005376344086021506),\n",
       " ('Thoros-of-Myr', 0.005376344086021506)]"
      ]
     },
     "execution_count": 36,
     "metadata": {},
     "output_type": "execute_result"
    }
   ],
   "source": [
    "# Five least important characters from book 1 according to degree centrality\n",
    "sorted(nx.degree_centrality(G1).items(), key = lambda x: x[1], reverse = False)[0:5]"
   ]
  },
  {
   "cell_type": "markdown",
   "metadata": {},
   "source": [
    "- __Plot and explain histogram from degree centrality values, calculated from book 1, and comment on the output__"
   ]
  },
  {
   "cell_type": "code",
   "execution_count": 37,
   "metadata": {},
   "outputs": [
    {
     "data": {
      "image/png": "[encoded data removed]",
      "text/plain": [
       "<Figure size 432x288 with 1 Axes>"
      ]
     },
     "metadata": {},
     "output_type": "display_data"
    }
   ],
   "source": [
    "# Plot a histogram of degree centrality\n",
    "plt.hist(list(nx.degree_centrality(G1).values()));"
   ]
  },
  {
   "cell_type": "code",
   "execution_count": 38,
   "metadata": {},
   "outputs": [],
   "source": [
    "# Your observations here \n",
    "#Edd is an outlier\n",
    "# Most characters not that important\n"
   ]
  },
  {
   "cell_type": "markdown",
   "metadata": {},
   "source": [
    "###  Weighted Degree Centrality\n",
    "\n",
    "- Create a new centrality measure as a function, `weighted_degree_centrality(Graph)` which takes in Graph and the returns a weighted degree centrality dictionary. \n",
    "\n",
    "[Refer to this paper to get an insight into this approacj](https://journals.plos.org/plosone/article?id=10.1371/journal.pone.0165781)\n",
    "\n",
    "Weighted degree is calculated by:\n",
    "\n",
    "1) __Sum the weight of the all edges of a node__\n",
    "\n",
    "2) __Normalize the weighted degree by the total weight of the graph i.e. sum of weighted degrees of all nodes__  \n",
    "\n",
    "3) __Calculated weighted degree centrality for book 1 using this function__"
   ]
  },
  {
   "cell_type": "code",
   "execution_count": 47,
   "metadata": {},
   "outputs": [
    {
     "data": {
      "text/plain": [
       "NodeView(('Addam-Marbrand', 'Jaime-Lannister', 'Tywin-Lannister', 'Aegon-I-Targaryen', 'Daenerys-Targaryen', 'Eddard-Stark', 'Aemon-Targaryen-(Maester-Aemon)', 'Alliser-Thorne', 'Bowen-Marsh', 'Chett', 'Clydas', 'Jeor-Mormont', 'Jon-Snow', 'Samwell-Tarly', 'Aerys-II-Targaryen', 'Brandon-Stark', 'Gerold-Hightower', 'Jon-Arryn', 'Robert-Baratheon', 'Aggo', 'Drogo', 'Jhogo', 'Jorah-Mormont', 'Quaro', 'Rakharo', 'Albett', 'Halder', 'Rast', 'Grenn', 'Pypar', 'Tyrion-Lannister', 'Alyn', 'Harwin', 'Jory-Cassel', 'Tomard', 'Arthur-Dayne', 'Arya-Stark', 'Benjen-Stark', 'Bran-Stark', 'Catelyn-Stark', 'Cersei-Lannister', 'Desmond', 'Ilyn-Payne', 'Jeyne-Poole', 'Joffrey-Baratheon', 'Meryn-Trant', 'Mordane', 'Mycah', 'Myrcella-Baratheon', 'Petyr-Baelish', 'Rickon-Stark', 'Robb-Stark', 'Rodrik-Cassel', 'Sandor-Clegane', 'Sansa-Stark', 'Syrio-Forel', 'Tommen-Baratheon', 'Vayon-Poole', 'Yoren', 'Arys-Oakheart', 'Balon-Greyjoy', 'Balon-Swann', 'Renly-Baratheon', 'Barristan-Selmy', 'Boros-Blount', 'Pycelle', 'Varys', 'Jaremy-Rykker', 'Luwin', 'Mance-Rayder', 'Theon-Greyjoy', 'Waymar-Royce', 'Beric-Dondarrion', 'Gregor-Clegane', 'Loras-Tyrell', 'Thoros-of-Myr', 'Hali', 'Hallis-Mollen', 'Hodor', 'Hullen', 'Joseth', 'Nan', 'Osha', 'Rickard-Karstark', 'Rickard-Stark', 'Stiv', 'Lyanna-Stark', 'Bronn', 'Chiggen', 'Marillion', 'Shae', 'Shagga', 'Vardis-Egen', 'Willis-Wode', 'Brynden-Tully', 'Edmure-Tully', 'Hoster-Tully', 'Lysa-Arryn', 'Nestor-Royce', 'Walder-Frey', 'Colemon', 'Donnel-Waynwood', 'Eon-Hunter', 'Jon-Umber-(Greatjon)', 'Masha-Heddle', 'Moreo-Tumitis', 'Mya-Stone', 'Mychel-Redfort', 'Robert-Arryn', 'Stevron-Frey', 'Tytos-Blackwood', 'Wendel-Manderly', 'Cayn', 'Janos-Slynt', 'Stannis-Baratheon', 'Chella', 'Clement-Piper', 'Karyl-Vance', 'Cohollo', 'Haggo', 'Qotho', 'Conn', 'Coratt', 'Doreah', 'Eroeh', 'Illyrio-Mopatis', 'Irri', 'Jhiqui', 'Mirri-Maz-Duur', 'Rhaegar-Targaryen', 'Viserys-Targaryen', 'Danwell-Frey', 'Hosteen-Frey', 'Jared-Frey', 'Dareon', 'Daryn-Hornwood', 'Torrhen-Karstark', 'Dolf', 'Donal-Noye', 'Jommo', 'Ogo', 'Rhaego', 'Dywen', 'Galbart-Glover', 'Gendry', 'High-Septon-(fat_one)', 'Howland-Reed', 'Jacks', 'Joss', 'Marq-Piper', 'Porther', 'Raymun-Darry', 'Tobho-Mott', 'Tregar', 'Varly', 'Wyl-(guard)', 'Wylla', 'Fogo', 'Roose-Bolton', 'Gared', 'Will-(prologue)', 'Oswell-Whent', 'Todder', 'Gunthor-son-of-Gurn', 'Harys-Swyft', 'Heward', 'Hobb', 'Hugh', 'Jafer-Flowers', 'Kevan-Lannister', 'Matthar', 'Othor', 'Maege-Mormont', 'Jonos-Bracken', 'Jyck', 'Morrec', 'Kurleket', 'Lancel-Lannister', 'Leo-Lefford', 'Mace-Tyrell', 'Lyn-Corbray', 'Paxter-Redwyne', 'Maegor-I-Targaryen', 'Mord', 'Randyll-Tarly', 'Timett', 'Ulf-son-of-Umar'))"
      ]
     },
     "execution_count": 47,
     "metadata": {},
     "output_type": "execute_result"
    }
   ],
   "source": [
    "G1.nodes"
   ]
  },
  {
   "cell_type": "code",
   "execution_count": 54,
   "metadata": {},
   "outputs": [
    {
     "data": {
      "text/plain": [
       "EdgeDataView([('Jaime-Lannister', 'Addam-Marbrand'), ('Jaime-Lannister', 'Aerys-II-Targaryen'), ('Jaime-Lannister', 'Barristan-Selmy'), ('Jaime-Lannister', 'Brynden-Tully'), ('Jaime-Lannister', 'Catelyn-Stark'), ('Jaime-Lannister', 'Cersei-Lannister'), ('Jaime-Lannister', 'Eddard-Stark'), ('Jaime-Lannister', 'Edmure-Tully'), ('Jaime-Lannister', 'Galbart-Glover'), ('Jaime-Lannister', 'Gregor-Clegane'), ('Jaime-Lannister', 'Harys-Swyft'), ('Jaime-Lannister', 'Joffrey-Baratheon'), ('Jaime-Lannister', 'Jon-Arryn'), ('Jaime-Lannister', 'Jory-Cassel'), ('Jaime-Lannister', 'Kevan-Lannister'), ('Jaime-Lannister', 'Loras-Tyrell'), ('Jaime-Lannister', 'Lysa-Arryn'), ('Jaime-Lannister', 'Petyr-Baelish'), ('Jaime-Lannister', 'Renly-Baratheon'), ('Jaime-Lannister', 'Rickard-Karstark'), ('Jaime-Lannister', 'Robb-Stark'), ('Jaime-Lannister', 'Robert-Baratheon'), ('Jaime-Lannister', 'Rodrik-Cassel'), ('Jaime-Lannister', 'Sandor-Clegane'), ('Jaime-Lannister', 'Sansa-Stark'), ('Jaime-Lannister', 'Tyrion-Lannister'), ('Jaime-Lannister', 'Tywin-Lannister'), ('Jaime-Lannister', 'Varys'), ('Jaime-Lannister', 'Wyl-(guard)')])"
      ]
     },
     "execution_count": 54,
     "metadata": {},
     "output_type": "execute_result"
    }
   ],
   "source": [
    "G1.edges(['Jaime-Lannister'])"
   ]
  },
  {
   "cell_type": "code",
   "execution_count": null,
   "metadata": {},
   "outputs": [],
   "source": []
  },
  {
   "cell_type": "code",
   "execution_count": 68,
   "metadata": {},
   "outputs": [
    {
     "data": {
      "text/plain": [
       "str"
      ]
     },
     "execution_count": 68,
     "metadata": {},
     "output_type": "execute_result"
    }
   ],
   "source": []
  },
  {
   "cell_type": "code",
   "execution_count": 55,
   "metadata": {},
   "outputs": [
    {
     "data": {
      "text/plain": [
       "EdgeDataView([('Jaime-Lannister', 'Addam-Marbrand', {'weight': 3, 'book': 1}), ('Jaime-Lannister', 'Aerys-II-Targaryen', {'weight': 5, 'book': 1}), ('Jaime-Lannister', 'Barristan-Selmy', {'weight': 4, 'book': 1}), ('Jaime-Lannister', 'Brynden-Tully', {'weight': 7, 'book': 1}), ('Jaime-Lannister', 'Catelyn-Stark', {'weight': 9, 'book': 1}), ('Jaime-Lannister', 'Cersei-Lannister', {'weight': 16, 'book': 1}), ('Jaime-Lannister', 'Eddard-Stark', {'weight': 27, 'book': 1}), ('Jaime-Lannister', 'Edmure-Tully', {'weight': 4, 'book': 1}), ('Jaime-Lannister', 'Galbart-Glover', {'weight': 3, 'book': 1}), ('Jaime-Lannister', 'Gregor-Clegane', {'weight': 3, 'book': 1}), ('Jaime-Lannister', 'Harys-Swyft', {'weight': 3, 'book': 1}), ('Jaime-Lannister', 'Joffrey-Baratheon', {'weight': 12, 'book': 1}), ('Jaime-Lannister', 'Jon-Arryn', {'weight': 5, 'book': 1}), ('Jaime-Lannister', 'Jory-Cassel', {'weight': 4, 'book': 1}), ('Jaime-Lannister', 'Kevan-Lannister', {'weight': 4, 'book': 1}), ('Jaime-Lannister', 'Loras-Tyrell', {'weight': 3, 'book': 1}), ('Jaime-Lannister', 'Lysa-Arryn', {'weight': 6, 'book': 1}), ('Jaime-Lannister', 'Petyr-Baelish', {'weight': 7, 'book': 1}), ('Jaime-Lannister', 'Renly-Baratheon', {'weight': 4, 'book': 1}), ('Jaime-Lannister', 'Rickard-Karstark', {'weight': 3, 'book': 1}), ('Jaime-Lannister', 'Robb-Stark', {'weight': 9, 'book': 1}), ('Jaime-Lannister', 'Robert-Baratheon', {'weight': 24, 'book': 1}), ('Jaime-Lannister', 'Rodrik-Cassel', {'weight': 3, 'book': 1}), ('Jaime-Lannister', 'Sandor-Clegane', {'weight': 12, 'book': 1}), ('Jaime-Lannister', 'Sansa-Stark', {'weight': 3, 'book': 1}), ('Jaime-Lannister', 'Tyrion-Lannister', {'weight': 36, 'book': 1}), ('Jaime-Lannister', 'Tywin-Lannister', {'weight': 16, 'book': 1}), ('Jaime-Lannister', 'Varys', {'weight': 3, 'book': 1}), ('Jaime-Lannister', 'Wyl-(guard)', {'weight': 3, 'book': 1})])"
      ]
     },
     "execution_count": 55,
     "metadata": {},
     "output_type": "execute_result"
    }
   ],
   "source": [
    "G1.edges(['Jaime-Lannister'], data = True)"
   ]
  },
  {
   "cell_type": "code",
   "execution_count": 60,
   "metadata": {},
   "outputs": [
    {
     "data": {
      "text/plain": [
       "3"
      ]
     },
     "execution_count": 60,
     "metadata": {},
     "output_type": "execute_result"
    }
   ],
   "source": [
    "list(G1.edges(['Jaime-Lannister'], data = True))[0][2]['weight']"
   ]
  },
  {
   "cell_type": "code",
   "execution_count": 71,
   "metadata": {},
   "outputs": [],
   "source": [
    "def weighted_degree_centrality(G):\n",
    "    weighted_centralities = {}\n",
    "    total = 0\n",
    "    for node in G.nodes():\n",
    "        weight = 0\n",
    "        for edge in G.edges(node, data=True):\n",
    "            weight += edge[2]['weight']\n",
    "        weighted_centralities[node] = weight\n",
    "        total += weight\n",
    "    #standardize\n",
    "    for node, value in weighted_centralities.items():\n",
    "        weighted_centralities[node] = value / total\n",
    "    return weighted_centralities"
   ]
  },
  {
   "cell_type": "code",
   "execution_count": 72,
   "metadata": {},
   "outputs": [
    {
     "data": {
      "image/png": "[encoded data removed]",
      "text/plain": [
       "<Figure size 432x288 with 1 Axes>"
      ]
     },
     "metadata": {},
     "output_type": "display_data"
    }
   ],
   "source": [
    "# Uncomment below to run\n",
    "\n",
    "\n",
    "plt.hist(list(weighted_degree_centrality(G1).values()))\n",
    "plt.show()"
   ]
  },
  {
   "cell_type": "markdown",
   "metadata": {},
   "source": [
    "- __Get the top 10 characters from book 1, based on weighted degree centrality and compare with the results of simple degree centrality. Record your observations below__"
   ]
  },
  {
   "cell_type": "code",
   "execution_count": 80,
   "metadata": {},
   "outputs": [
    {
     "data": {
      "text/plain": [
       "[('Eddard-Stark', 0.08715720879717621),\n",
       " ('Robert-Baratheon', 0.06387455878360032),\n",
       " ('Jon-Snow', 0.05321748574531632),\n",
       " ('Tyrion-Lannister', 0.044121639967417865),\n",
       " ('Sansa-Stark', 0.03699429812652729),\n",
       " ('Bran-Stark', 0.03604398588107521),\n",
       " ('Catelyn-Stark', 0.03529731197393429),\n",
       " ('Robb-Stark', 0.03502579418951941),\n",
       " ('Daenerys-Targaryen', 0.030070594623947868),\n",
       " ('Arya-Stark', 0.02918816182459951)]"
      ]
     },
     "execution_count": 80,
     "metadata": {},
     "output_type": "execute_result"
    }
   ],
   "source": [
    "# Weighted DC\n",
    "sorted(weighted_degree_centrality(G1).items(), key = lambda x: x[1], reverse = True)[0:10]"
   ]
  },
  {
   "cell_type": "code",
   "execution_count": 82,
   "metadata": {},
   "outputs": [
    {
     "data": {
      "text/plain": [
       "[('Eddard-Stark', 0.3548387096774194),\n",
       " ('Robert-Baratheon', 0.2688172043010753),\n",
       " ('Tyrion-Lannister', 0.24731182795698928),\n",
       " ('Catelyn-Stark', 0.23118279569892475),\n",
       " ('Jon-Snow', 0.19892473118279572),\n",
       " ('Robb-Stark', 0.18817204301075272),\n",
       " ('Sansa-Stark', 0.18817204301075272),\n",
       " ('Bran-Stark', 0.17204301075268819),\n",
       " ('Cersei-Lannister', 0.16129032258064518),\n",
       " ('Joffrey-Baratheon', 0.16129032258064518)]"
      ]
     },
     "execution_count": 82,
     "metadata": {},
     "output_type": "execute_result"
    }
   ],
   "source": [
    "# Un-weighted DC\n",
    "sorted(nx.degree_centrality(G1).items(), key = lambda x: x[1], reverse = True)[0:10]"
   ]
  },
  {
   "cell_type": "code",
   "execution_count": 83,
   "metadata": {},
   "outputs": [],
   "source": [
    "# Your observations here \n",
    "#Smaller standard deviation in weighted values\n",
    "# Ned still top dog\n"
   ]
  },
  {
   "cell_type": "markdown",
   "metadata": {},
   "source": [
    "- __ Confirm that sum of weighted degree centralitity value for all nodes sum up to 1 i.e. normalization__"
   ]
  },
  {
   "cell_type": "code",
   "execution_count": 84,
   "metadata": {},
   "outputs": [
    {
     "data": {
      "text/plain": [
       "1.0000000000000002"
      ]
     },
     "execution_count": 84,
     "metadata": {},
     "output_type": "execute_result"
    }
   ],
   "source": [
    "# Uncomment to run \n",
    "\n",
    "sum(list(weighted_degree_centrality(G1).values()))"
   ]
  },
  {
   "cell_type": "markdown",
   "metadata": {},
   "source": [
    "## Betweenness centrality \n",
    "\n",
    "- __Calculate the weighted and un-weighted \"Betweenness\" centrality for book 2, and compare top ten characters as above__\n",
    "- __Comment on the results__"
   ]
  },
  {
   "cell_type": "code",
   "execution_count": 94,
   "metadata": {},
   "outputs": [
    {
     "data": {
      "text/plain": [
       "[('Eddard-Stark', 0.2696038913836117),\n",
       " ('Robert-Baratheon', 0.21403028397371796),\n",
       " ('Tyrion-Lannister', 0.1902124972697492),\n",
       " ('Jon-Snow', 0.17158135899829566),\n",
       " ('Catelyn-Stark', 0.1513952715347627),\n",
       " ('Daenerys-Targaryen', 0.08627015537511595),\n",
       " ('Robb-Stark', 0.07298399629664767),\n",
       " ('Drogo', 0.06481224290874964),\n",
       " ('Bran-Stark', 0.05579958811784442),\n",
       " ('Sansa-Stark', 0.03714483664326785)]"
      ]
     },
     "execution_count": 94,
     "metadata": {},
     "output_type": "execute_result"
    }
   ],
   "source": [
    "# Unweighted Betweenness Centrality\n",
    "sorted(nx.betweenness_centrality(G1).items(), key = lambda x: x[1], reverse = True)[0:10]"
   ]
  },
  {
   "cell_type": "code",
   "execution_count": 95,
   "metadata": {},
   "outputs": [
    {
     "data": {
      "text/plain": [
       "[('Robert-Baratheon', 0.23341885664466297),\n",
       " ('Eddard-Stark', 0.18703429235687297),\n",
       " ('Tyrion-Lannister', 0.15311225972516293),\n",
       " ('Robb-Stark', 0.1024018949825402),\n",
       " ('Catelyn-Stark', 0.10169012330302643),\n",
       " ('Jon-Snow', 0.09027684366394043),\n",
       " ('Jaime-Lannister', 0.07745109164464009),\n",
       " ('Rodrik-Cassel', 0.07667992877670296),\n",
       " ('Drogo', 0.06894355184677767),\n",
       " ('Jorah-Mormont', 0.0627085149665795)]"
      ]
     },
     "execution_count": 95,
     "metadata": {},
     "output_type": "execute_result"
    }
   ],
   "source": [
    "# Weighted Betweenness similarity \n",
    "sorted(nx.betweenness_centrality(G1, weight = 'weight').items(), key = lambda x: x[1], reverse = True)[0:10]"
   ]
  },
  {
   "cell_type": "code",
   "execution_count": 22,
   "metadata": {},
   "outputs": [],
   "source": [
    "# Your observations here\n",
    "#TOP SPOT taken by Robert with weighted"
   ]
  },
  {
   "cell_type": "markdown",
   "metadata": {},
   "source": [
    "## Is there a correlation between node centrality measures?\n",
    "\n",
    "Well, lets find out. \n",
    "\n",
    "\n",
    "- __Find the correlation between following:__\n",
    "    - Weighted Degree \n",
    "    - Closeness\n",
    "    - Weighted Betweenness\n",
    "    - Weighted Eigenvector\n",
    "- __Use book 1 for the analysis (You may choose other books as well)__\n",
    "- __Calculate correlation matrix and visualize the results for all characters__\n",
    "- __Comment on the results__"
   ]
  },
  {
   "cell_type": "code",
   "execution_count": 157,
   "metadata": {},
   "outputs": [],
   "source": [
    "# Create a dataframe with 4 centrality measures, for all characters\n",
    "characters = sorted(G1.nodes(), key = lambda x: x[0])\n",
    "weighted_degree = sorted(weighted_degree_centrality(G1).items(), key = lambda x: x[0])\n",
    "closeness = sorted(nx.closeness_centrality(G1).items(), key = lambda x: x[0])\n",
    "weighted_betweenness= sorted(nx.betweenness_centrality(G1, weight = 'weight').items(), key = lambda x: x[0])\n",
    "weighted_eigenvector = sorted(nx.eigenvector_centrality(G1).items(), key = lambda x: x[0])\n",
    "\n",
    "measures = [characters, weighted_degree, closeness, weighted_betweenness, weighted_eigenvector]\n",
    "\n",
    "def isolate(x):\n",
    "    adjusted = []\n",
    "    for index in range(len(x)):\n",
    "        adjusted.append(x[index][1])\n",
    "    return adjusted\n",
    "\n",
    "weighted_degree = isolate(weighted_degree)\n",
    "closeness = isolate(closeness)\n",
    "weighted_betweenness = isolate(weighted_betweenness)\n",
    "weighted_eigenvector = isolate(weighted_eigenvector)\n",
    "\n",
    "df1 = pd.DataFrame()\n",
    "df1['Characters'] = characters\n",
    "df1['Degree'] = weighted_degree\n",
    "df1['Closeness'] = closeness\n",
    "df1['Betweenness'] = weighted_betweenness\n",
    "df1['Eigenvector'] = weighted_eigenvector\n",
    "\n",
    "df1.set_index('Characters', inplace = True)\n"
   ]
  },
  {
   "cell_type": "code",
   "execution_count": 160,
   "metadata": {},
   "outputs": [
    {
     "data": {
      "text/html": [
       "<div>\n",
       "<style scoped>\n",
       "    .dataframe tbody tr th:only-of-type {\n",
       "        vertical-align: middle;\n",
       "    }\n",
       "\n",
       "    .dataframe tbody tr th {\n",
       "        vertical-align: top;\n",
       "    }\n",
       "\n",
       "    .dataframe thead th {\n",
       "        text-align: right;\n",
       "    }\n",
       "</style>\n",
       "<table border=\"1\" class=\"dataframe\">\n",
       "  <thead>\n",
       "    <tr style=\"text-align: right;\">\n",
       "      <th></th>\n",
       "      <th>Degree</th>\n",
       "      <th>Closeness</th>\n",
       "      <th>Betweenness</th>\n",
       "      <th>Eigenvector</th>\n",
       "    </tr>\n",
       "    <tr>\n",
       "      <th>Characters</th>\n",
       "      <th></th>\n",
       "      <th></th>\n",
       "      <th></th>\n",
       "      <th></th>\n",
       "    </tr>\n",
       "  </thead>\n",
       "  <tbody>\n",
       "    <tr>\n",
       "      <th>Addam-Marbrand</th>\n",
       "      <td>0.000611</td>\n",
       "      <td>0.323478</td>\n",
       "      <td>0.000000</td>\n",
       "      <td>0.016907</td>\n",
       "    </tr>\n",
       "    <tr>\n",
       "      <th>Aegon-I-Targaryen</th>\n",
       "      <td>0.000611</td>\n",
       "      <td>0.376518</td>\n",
       "      <td>0.000000</td>\n",
       "      <td>0.017385</td>\n",
       "    </tr>\n",
       "    <tr>\n",
       "      <th>Aemon-Targaryen-(Maester-Aemon)</th>\n",
       "      <td>0.005023</td>\n",
       "      <td>0.336957</td>\n",
       "      <td>0.010753</td>\n",
       "      <td>0.015729</td>\n",
       "    </tr>\n",
       "    <tr>\n",
       "      <th>Alliser-Thorne</th>\n",
       "      <td>0.002512</td>\n",
       "      <td>0.385892</td>\n",
       "      <td>0.007183</td>\n",
       "      <td>0.048583</td>\n",
       "    </tr>\n",
       "    <tr>\n",
       "      <th>Aerys-II-Targaryen</th>\n",
       "      <td>0.002444</td>\n",
       "      <td>0.292913</td>\n",
       "      <td>0.000450</td>\n",
       "      <td>0.005481</td>\n",
       "    </tr>\n",
       "  </tbody>\n",
       "</table>\n",
       "</div>"
      ],
      "text/plain": [
       "                                   Degree  Closeness  Betweenness  Eigenvector\n",
       "Characters                                                                    \n",
       "Addam-Marbrand                   0.000611   0.323478     0.000000     0.016907\n",
       "Aegon-I-Targaryen                0.000611   0.376518     0.000000     0.017385\n",
       "Aemon-Targaryen-(Maester-Aemon)  0.005023   0.336957     0.010753     0.015729\n",
       "Alliser-Thorne                   0.002512   0.385892     0.007183     0.048583\n",
       "Aerys-II-Targaryen               0.002444   0.292913     0.000450     0.005481"
      ]
     },
     "execution_count": 160,
     "metadata": {},
     "output_type": "execute_result"
    }
   ],
   "source": [
    "df1.head()"
   ]
  },
  {
   "cell_type": "code",
   "execution_count": 163,
   "metadata": {
    "scrolled": false
   },
   "outputs": [
    {
     "data": {
      "text/plain": [
       "<matplotlib.axes._subplots.AxesSubplot at 0xa1d965400>"
      ]
     },
     "execution_count": 163,
     "metadata": {},
     "output_type": "execute_result"
    },
    {
     "data": {
      "image/png": "[encoded data removed]",
      "text/plain": [
       "<Figure size 432x288 with 1 Axes>"
      ]
     },
     "metadata": {},
     "output_type": "display_data"
    }
   ],
   "source": [
    "# plot the measures as lines to see if they correlate\n",
    "corr = df1\n",
    "\n",
    "corr.plot()"
   ]
  },
  {
   "cell_type": "code",
   "execution_count": 164,
   "metadata": {},
   "outputs": [
    {
     "data": {
      "text/html": [
       "<div>\n",
       "<style scoped>\n",
       "    .dataframe tbody tr th:only-of-type {\n",
       "        vertical-align: middle;\n",
       "    }\n",
       "\n",
       "    .dataframe tbody tr th {\n",
       "        vertical-align: top;\n",
       "    }\n",
       "\n",
       "    .dataframe thead th {\n",
       "        text-align: right;\n",
       "    }\n",
       "</style>\n",
       "<table border=\"1\" class=\"dataframe\">\n",
       "  <thead>\n",
       "    <tr style=\"text-align: right;\">\n",
       "      <th></th>\n",
       "      <th>Degree</th>\n",
       "      <th>Closeness</th>\n",
       "      <th>Betweenness</th>\n",
       "      <th>Eigenvector</th>\n",
       "    </tr>\n",
       "  </thead>\n",
       "  <tbody>\n",
       "    <tr>\n",
       "      <th>Degree</th>\n",
       "      <td>1.000000</td>\n",
       "      <td>0.713617</td>\n",
       "      <td>0.857222</td>\n",
       "      <td>0.843963</td>\n",
       "    </tr>\n",
       "    <tr>\n",
       "      <th>Closeness</th>\n",
       "      <td>0.713617</td>\n",
       "      <td>1.000000</td>\n",
       "      <td>0.675276</td>\n",
       "      <td>0.868989</td>\n",
       "    </tr>\n",
       "    <tr>\n",
       "      <th>Betweenness</th>\n",
       "      <td>0.857222</td>\n",
       "      <td>0.675276</td>\n",
       "      <td>1.000000</td>\n",
       "      <td>0.750304</td>\n",
       "    </tr>\n",
       "    <tr>\n",
       "      <th>Eigenvector</th>\n",
       "      <td>0.843963</td>\n",
       "      <td>0.868989</td>\n",
       "      <td>0.750304</td>\n",
       "      <td>1.000000</td>\n",
       "    </tr>\n",
       "  </tbody>\n",
       "</table>\n",
       "</div>"
      ],
      "text/plain": [
       "               Degree  Closeness  Betweenness  Eigenvector\n",
       "Degree       1.000000   0.713617     0.857222     0.843963\n",
       "Closeness    0.713617   1.000000     0.675276     0.868989\n",
       "Betweenness  0.857222   0.675276     1.000000     0.750304\n",
       "Eigenvector  0.843963   0.868989     0.750304     1.000000"
      ]
     },
     "execution_count": 164,
     "metadata": {},
     "output_type": "execute_result"
    }
   ],
   "source": [
    "# calculate Correlation matrix\n",
    "corr.corr()"
   ]
  },
  {
   "cell_type": "code",
   "execution_count": 26,
   "metadata": {},
   "outputs": [],
   "source": [
    "# Your observations here \n",
    "#Highest correlation is between Closeness and Eigenvector\n",
    "#Closeness is lowest with other two - correlation with eigenvector may be off\n"
   ]
  },
  {
   "cell_type": "markdown",
   "metadata": {},
   "source": [
    "## Character Evolution : Bring the the rest of series \n",
    "\n",
    "By Studying the change in centrality throughout the series, we can create an evolution of characters as the story progresses. \n",
    "\n",
    "- __Calculate the weighted degree centrality for all five books (edge lists), and save your results in a dataframe__\n",
    "\n",
    "Hint: Fill nans with zero for values that can not be calculated  due to being extremely small"
   ]
  },
  {
   "cell_type": "code",
   "execution_count": 166,
   "metadata": {},
   "outputs": [
    {
     "data": {
      "text/html": [
       "<div>\n",
       "<style scoped>\n",
       "    .dataframe tbody tr th:only-of-type {\n",
       "        vertical-align: middle;\n",
       "    }\n",
       "\n",
       "    .dataframe tbody tr th {\n",
       "        vertical-align: top;\n",
       "    }\n",
       "\n",
       "    .dataframe thead th {\n",
       "        text-align: right;\n",
       "    }\n",
       "</style>\n",
       "<table border=\"1\" class=\"dataframe\">\n",
       "  <thead>\n",
       "    <tr style=\"text-align: right;\">\n",
       "      <th></th>\n",
       "      <th>Addam-Marbrand</th>\n",
       "      <th>Aegon-Frey-(son-of-Stevron)</th>\n",
       "      <th>Aegon-I-Targaryen</th>\n",
       "      <th>Aegon-Targaryen-(son-of-Rhaegar)</th>\n",
       "      <th>Aegon-V-Targaryen</th>\n",
       "      <th>Aemon-Targaryen-(Dragonknight)</th>\n",
       "      <th>Aemon-Targaryen-(Maester-Aemon)</th>\n",
       "      <th>Aenys-Frey</th>\n",
       "      <th>Aeron-Greyjoy</th>\n",
       "      <th>Aerys-I-Targaryen</th>\n",
       "      <th>...</th>\n",
       "      <th>Yellow-Dick</th>\n",
       "      <th>Yezzan-zo-Qaggaz</th>\n",
       "      <th>Ygritte</th>\n",
       "      <th>Yohn-Royce</th>\n",
       "      <th>Yoren</th>\n",
       "      <th>Yorko-Terys</th>\n",
       "      <th>Ysilla</th>\n",
       "      <th>Yurkhaz-zo-Yunzak</th>\n",
       "      <th>Zei</th>\n",
       "      <th>Zollo</th>\n",
       "    </tr>\n",
       "  </thead>\n",
       "  <tbody>\n",
       "    <tr>\n",
       "      <th>0</th>\n",
       "      <td>0.000611</td>\n",
       "      <td>0.000000</td>\n",
       "      <td>0.000611</td>\n",
       "      <td>0.000000</td>\n",
       "      <td>0.000000</td>\n",
       "      <td>0.000000</td>\n",
       "      <td>0.005023</td>\n",
       "      <td>0.000000</td>\n",
       "      <td>0.000000</td>\n",
       "      <td>0.000000</td>\n",
       "      <td>...</td>\n",
       "      <td>0.000000</td>\n",
       "      <td>0.000000</td>\n",
       "      <td>0.000000</td>\n",
       "      <td>0.000000</td>\n",
       "      <td>0.00224</td>\n",
       "      <td>0.000000</td>\n",
       "      <td>0.000000</td>\n",
       "      <td>0.00000</td>\n",
       "      <td>0.000000</td>\n",
       "      <td>0.000000</td>\n",
       "    </tr>\n",
       "    <tr>\n",
       "      <th>1</th>\n",
       "      <td>0.000000</td>\n",
       "      <td>0.000000</td>\n",
       "      <td>0.001336</td>\n",
       "      <td>0.000000</td>\n",
       "      <td>0.000236</td>\n",
       "      <td>0.000000</td>\n",
       "      <td>0.002673</td>\n",
       "      <td>0.000472</td>\n",
       "      <td>0.001730</td>\n",
       "      <td>0.000236</td>\n",
       "      <td>...</td>\n",
       "      <td>0.000000</td>\n",
       "      <td>0.000000</td>\n",
       "      <td>0.001887</td>\n",
       "      <td>0.000000</td>\n",
       "      <td>0.00684</td>\n",
       "      <td>0.000000</td>\n",
       "      <td>0.000000</td>\n",
       "      <td>0.00000</td>\n",
       "      <td>0.000000</td>\n",
       "      <td>0.000000</td>\n",
       "    </tr>\n",
       "    <tr>\n",
       "      <th>2</th>\n",
       "      <td>0.001711</td>\n",
       "      <td>0.001062</td>\n",
       "      <td>0.000649</td>\n",
       "      <td>0.000177</td>\n",
       "      <td>0.000000</td>\n",
       "      <td>0.000177</td>\n",
       "      <td>0.009083</td>\n",
       "      <td>0.000000</td>\n",
       "      <td>0.000000</td>\n",
       "      <td>0.000000</td>\n",
       "      <td>...</td>\n",
       "      <td>0.000000</td>\n",
       "      <td>0.000000</td>\n",
       "      <td>0.007314</td>\n",
       "      <td>0.000177</td>\n",
       "      <td>0.00000</td>\n",
       "      <td>0.000000</td>\n",
       "      <td>0.000000</td>\n",
       "      <td>0.00000</td>\n",
       "      <td>0.000177</td>\n",
       "      <td>0.000472</td>\n",
       "    </tr>\n",
       "    <tr>\n",
       "      <th>3</th>\n",
       "      <td>0.001908</td>\n",
       "      <td>0.000000</td>\n",
       "      <td>0.000000</td>\n",
       "      <td>0.000318</td>\n",
       "      <td>0.000318</td>\n",
       "      <td>0.000000</td>\n",
       "      <td>0.009752</td>\n",
       "      <td>0.000000</td>\n",
       "      <td>0.012932</td>\n",
       "      <td>0.000000</td>\n",
       "      <td>...</td>\n",
       "      <td>0.000000</td>\n",
       "      <td>0.000000</td>\n",
       "      <td>0.000000</td>\n",
       "      <td>0.003922</td>\n",
       "      <td>0.00000</td>\n",
       "      <td>0.000636</td>\n",
       "      <td>0.000000</td>\n",
       "      <td>0.00000</td>\n",
       "      <td>0.000000</td>\n",
       "      <td>0.000636</td>\n",
       "    </tr>\n",
       "    <tr>\n",
       "      <th>4</th>\n",
       "      <td>0.000000</td>\n",
       "      <td>0.000000</td>\n",
       "      <td>0.000350</td>\n",
       "      <td>0.011386</td>\n",
       "      <td>0.000000</td>\n",
       "      <td>0.000000</td>\n",
       "      <td>0.003591</td>\n",
       "      <td>0.001139</td>\n",
       "      <td>0.000613</td>\n",
       "      <td>0.000000</td>\n",
       "      <td>...</td>\n",
       "      <td>0.001314</td>\n",
       "      <td>0.004204</td>\n",
       "      <td>0.001489</td>\n",
       "      <td>0.000000</td>\n",
       "      <td>0.00000</td>\n",
       "      <td>0.000000</td>\n",
       "      <td>0.004029</td>\n",
       "      <td>0.00035</td>\n",
       "      <td>0.000000</td>\n",
       "      <td>0.000000</td>\n",
       "    </tr>\n",
       "  </tbody>\n",
       "</table>\n",
       "<p>5 rows × 796 columns</p>\n",
       "</div>"
      ],
      "text/plain": [
       "   Addam-Marbrand  Aegon-Frey-(son-of-Stevron)  Aegon-I-Targaryen  \\\n",
       "0        0.000611                     0.000000           0.000611   \n",
       "1        0.000000                     0.000000           0.001336   \n",
       "2        0.001711                     0.001062           0.000649   \n",
       "3        0.001908                     0.000000           0.000000   \n",
       "4        0.000000                     0.000000           0.000350   \n",
       "\n",
       "   Aegon-Targaryen-(son-of-Rhaegar)  Aegon-V-Targaryen  \\\n",
       "0                          0.000000           0.000000   \n",
       "1                          0.000000           0.000236   \n",
       "2                          0.000177           0.000000   \n",
       "3                          0.000318           0.000318   \n",
       "4                          0.011386           0.000000   \n",
       "\n",
       "   Aemon-Targaryen-(Dragonknight)  Aemon-Targaryen-(Maester-Aemon)  \\\n",
       "0                        0.000000                         0.005023   \n",
       "1                        0.000000                         0.002673   \n",
       "2                        0.000177                         0.009083   \n",
       "3                        0.000000                         0.009752   \n",
       "4                        0.000000                         0.003591   \n",
       "\n",
       "   Aenys-Frey  Aeron-Greyjoy  Aerys-I-Targaryen  ...  Yellow-Dick  \\\n",
       "0    0.000000       0.000000           0.000000  ...     0.000000   \n",
       "1    0.000472       0.001730           0.000236  ...     0.000000   \n",
       "2    0.000000       0.000000           0.000000  ...     0.000000   \n",
       "3    0.000000       0.012932           0.000000  ...     0.000000   \n",
       "4    0.001139       0.000613           0.000000  ...     0.001314   \n",
       "\n",
       "   Yezzan-zo-Qaggaz   Ygritte  Yohn-Royce    Yoren  Yorko-Terys    Ysilla  \\\n",
       "0          0.000000  0.000000    0.000000  0.00224     0.000000  0.000000   \n",
       "1          0.000000  0.001887    0.000000  0.00684     0.000000  0.000000   \n",
       "2          0.000000  0.007314    0.000177  0.00000     0.000000  0.000000   \n",
       "3          0.000000  0.000000    0.003922  0.00000     0.000636  0.000000   \n",
       "4          0.004204  0.001489    0.000000  0.00000     0.000000  0.004029   \n",
       "\n",
       "   Yurkhaz-zo-Yunzak       Zei     Zollo  \n",
       "0            0.00000  0.000000  0.000000  \n",
       "1            0.00000  0.000000  0.000000  \n",
       "2            0.00000  0.000177  0.000472  \n",
       "3            0.00000  0.000000  0.000636  \n",
       "4            0.00035  0.000000  0.000000  \n",
       "\n",
       "[5 rows x 796 columns]"
      ]
     },
     "execution_count": 166,
     "metadata": {},
     "output_type": "execute_result"
    }
   ],
   "source": [
    "# Create a character evolution dataframe based on weighted degree centrality from all books\n",
    "wd = [weighted_degree_centrality(graph) for graph in graphs]\n",
    "\n",
    "\n",
    "# Fill Nans and view contents\n",
    "wd_df = pd.DataFrame.from_records(wd).fillna(0)\n",
    "wd_df.head()"
   ]
  },
  {
   "cell_type": "markdown",
   "metadata": {},
   "source": [
    "- __Identify top 10 characters i.e. having 10 highest degree centrality values, from `evol_degree_df` and create a new dataframe with their names and centrality value__"
   ]
  },
  {
   "cell_type": "code",
   "execution_count": 171,
   "metadata": {},
   "outputs": [],
   "source": [
    "top = wd_df.max(axis = 0).sort_values(ascending = False)[0:10]"
   ]
  },
  {
   "cell_type": "markdown",
   "metadata": {},
   "source": [
    "- __Plot the evolution of weighted degree centrality of the above characters over the 5 books__\n",
    "- __Comment on your answer__"
   ]
  },
  {
   "cell_type": "code",
   "execution_count": 177,
   "metadata": {},
   "outputs": [
    {
     "data": {
      "text/plain": [
       "['Eddard-Stark',\n",
       " 'Cersei-Lannister',\n",
       " 'Jon-Snow',\n",
       " 'Tyrion-Lannister',\n",
       " 'Robert-Baratheon',\n",
       " 'Daenerys-Targaryen',\n",
       " 'Jaime-Lannister',\n",
       " 'Joffrey-Baratheon',\n",
       " 'Bran-Stark',\n",
       " 'Sansa-Stark']"
      ]
     },
     "execution_count": 177,
     "metadata": {},
     "output_type": "execute_result"
    }
   ],
   "source": [
    "list(top.index)"
   ]
  },
  {
   "cell_type": "code",
   "execution_count": 183,
   "metadata": {},
   "outputs": [
    {
     "data": {
      "text/plain": [
       "Index(['Eddard-Stark', 'Cersei-Lannister', 'Jon-Snow', 'Tyrion-Lannister',\n",
       "       'Robert-Baratheon', 'Daenerys-Targaryen', 'Jaime-Lannister',\n",
       "       'Joffrey-Baratheon', 'Bran-Stark', 'Sansa-Stark'],\n",
       "      dtype='object')"
      ]
     },
     "execution_count": 183,
     "metadata": {},
     "output_type": "execute_result"
    }
   ],
   "source": [
    "y.columns"
   ]
  },
  {
   "cell_type": "code",
   "execution_count": 195,
   "metadata": {},
   "outputs": [
    {
     "data": {
      "image/png": "[encoded data removed]",
      "text/plain": [
       "<Figure size 576x396 with 1 Axes>"
      ]
     },
     "metadata": {},
     "output_type": "display_data"
    }
   ],
   "source": [
    "# Your observations here \n",
    "y = wd_df[list(top.index)]\n",
    "y.plot()\n",
    "plt.style.use('ggplot')\n",
    "plt.show()"
   ]
  },
  {
   "cell_type": "markdown",
   "metadata": {},
   "source": [
    "#### Repeat Above for Weighted Betweenness Centrality"
   ]
  },
  {
   "cell_type": "code",
   "execution_count": 207,
   "metadata": {},
   "outputs": [
    {
     "data": {
      "text/plain": [
       "<matplotlib.axes._subplots.AxesSubplot at 0xa1feee160>"
      ]
     },
     "execution_count": 207,
     "metadata": {},
     "output_type": "execute_result"
    },
    {
     "data": {
      "image/png": "[encoded data removed]",
      "text/plain": [
       "<Figure size 576x396 with 1 Axes>"
      ]
     },
     "metadata": {},
     "output_type": "display_data"
    }
   ],
   "source": [
    "# Create a character evolution dataframe based on weighted degree centrality from all books\n",
    "b = [nx.betweenness_centrality(graph, weight= 'weight') for graph in graphs]\n",
    "\n",
    "# Fill Nans and view contents\n",
    "b_df = pd.DataFrame.from_records(b).fillna(0)\n",
    "\n",
    "top_b = b_df.max(axis = 0).sort_values(ascending = False)[0:10]\n",
    "\n",
    "# Record Your observations here \n",
    "b_df = b_df[list(top_b.index)]\n",
    "\n",
    "b_df.plot()"
   ]
  },
  {
   "cell_type": "markdown",
   "metadata": {},
   "source": [
    "## Level Up: Visualize the Graphs (optional)\n",
    "\n",
    "- Use the techniques seen so far to visualize and customize the graphs \n",
    "- Study the shapes of the graphs in terms of spread , clusters etc and see if you can identify any links to the actual books (or the TV series)"
   ]
  },
  {
   "cell_type": "markdown",
   "metadata": {},
   "source": [
    "## Summary \n",
    "\n",
    "In this lab, we looked at different centrality measures of the graph data for the ASIOF dataset. We also compared these measures to see how they correlate with each other. We also saw in practice, the difference between taking the weighted centrality measures and how it may effect the results. "
   ]
  }
 ],
 "metadata": {
  "kernelspec": {
   "display_name": "Python 3",
   "language": "python",
   "name": "python3"
  },
  "language_info": {
   "codemirror_mode": {
    "name": "ipython",
    "version": 3
   },
   "file_extension": ".py",
   "mimetype": "text/x-python",
   "name": "python",
   "nbconvert_exporter": "python",
   "pygments_lexer": "ipython3",
   "version": "3.6.5"
  }
 },
 "nbformat": 4,
 "nbformat_minor": 2
}
